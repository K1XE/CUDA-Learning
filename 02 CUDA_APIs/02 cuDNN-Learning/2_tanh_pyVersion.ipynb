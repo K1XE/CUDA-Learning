{
 "cells": [
  {
   "cell_type": "code",
   "execution_count": 7,
   "metadata": {},
   "outputs": [],
   "source": [
    "import torch\n",
    "import time\n",
    "import math\n",
    "WARMUP_EPOCH = 10\n",
    "BENCHMARK_EPOCH = 100"
   ]
  },
  {
   "cell_type": "code",
   "execution_count": 8,
   "metadata": {},
   "outputs": [],
   "source": [
    "def my_tanh(x):\n",
    "    return (torch.exp(2*x) - 1) / (torch.exp(2*x) + 1)"
   ]
  },
  {
   "cell_type": "code",
   "execution_count": 9,
   "metadata": {},
   "outputs": [],
   "source": [
    "def benchmark_my_tanh(input_tensor):\n",
    "    for _ in range(WARMUP_EPOCH):\n",
    "        _ = my_tanh(input_tensor)\n",
    "    \n",
    "    torch.cuda.synchronize()\n",
    "\n",
    "    start = time.perf_counter()\n",
    "    for _ in range(BENCHMARK_EPOCH):\n",
    "        _ = my_tanh(input_tensor)\n",
    "    torch.cuda.synchronize()\n",
    "    end = time.perf_counter()\n",
    "\n",
    "    avg_time = (end - start) * 1000 / BENCHMARK_EPOCH\n",
    "    print(f\"手写 Tanh: 平均 {avg_time:.3f} ms 完成一次\")\n",
    "    \n",
    "    return my_tanh(input_tensor)"
   ]
  },
  {
   "cell_type": "code",
   "execution_count": 10,
   "metadata": {},
   "outputs": [],
   "source": [
    "def benchmark_pytorch_tanh(input_tensor):\n",
    "    for _ in range(BENCHMARK_EPOCH):\n",
    "        _ = torch.tanh(input_tensor)\n",
    "    \n",
    "    start = time.perf_counter()\n",
    "    for _ in range(BENCHMARK_EPOCH):\n",
    "        _ = torch.tanh(input_tensor)\n",
    "    torch.cuda.synchronize()\n",
    "    end = time.perf_counter()\n",
    "    \n",
    "    avg_time = (end - start) * 1000 / BENCHMARK_EPOCH\n",
    "    print(f\"torch Tanh: 平均 {avg_time:.3f} ms 完成一次\")\n",
    "    \n",
    "    return torch.tanh(input_tensor)"
   ]
  },
  {
   "cell_type": "code",
   "execution_count": 11,
   "metadata": {},
   "outputs": [],
   "source": [
    "def verify_res(my_output, buildin_output):\n",
    "    max_diff = torch.max(torch.abs(my_output - buildin_output)).item()\n",
    "    print(f\"二者最大误差为： {max_diff:.6e}\")"
   ]
  },
  {
   "cell_type": "code",
   "execution_count": 12,
   "metadata": {},
   "outputs": [
    {
     "name": "stdout",
     "output_type": "stream",
     "text": [
      "使用设备为：cuda\n",
      "手写 Tanh: 平均 65.485 ms 完成一次\n",
      "torch Tanh: 平均 20.468 ms 完成一次\n",
      "二者最大误差为： 1.788139e-07\n"
     ]
    }
   ],
   "source": [
    "device = torch.device(\"cuda\" if torch.cuda.is_available() else \"cpu\")\n",
    "print(f\"使用设备为：{device}\")\n",
    "\n",
    "input_tensor = torch.rand((256, 32, 128, 128), device=device) * 2 - 1\n",
    "\n",
    "_ = torch.tanh(input_tensor)\n",
    "torch.cuda.synchronize()\n",
    "\n",
    "my_output = benchmark_my_tanh(input_tensor)\n",
    "\n",
    "buildin_output = benchmark_pytorch_tanh(input_tensor)\n",
    "\n",
    "verify_res(my_output, buildin_output)"
   ]
  }
 ],
 "metadata": {
  "kernelspec": {
   "display_name": "cuda_env",
   "language": "python",
   "name": "python3"
  },
  "language_info": {
   "codemirror_mode": {
    "name": "ipython",
    "version": 3
   },
   "file_extension": ".py",
   "mimetype": "text/x-python",
   "name": "python",
   "nbconvert_exporter": "python",
   "pygments_lexer": "ipython3",
   "version": "undefined.undefined.undefined"
  }
 },
 "nbformat": 4,
 "nbformat_minor": 2
}
